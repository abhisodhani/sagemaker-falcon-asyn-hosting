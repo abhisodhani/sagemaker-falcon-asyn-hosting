{
 "cells": [
  {
   "cell_type": "code",
   "execution_count": 2,
   "id": "066f622c-690f-40ea-9d4f-0710b5a618ae",
   "metadata": {
    "tags": []
   },
   "outputs": [
    {
     "name": "stderr",
     "output_type": "stream",
     "text": [
      "/opt/conda/lib/python3.10/site-packages/scipy/__init__.py:155: UserWarning: A NumPy version >=1.18.5 and <1.25.0 is required for this version of SciPy (detected version 1.25.1\n",
      "  warnings.warn(f\"A NumPy version >={np_minversion} and <{np_maxversion}\"\n"
     ]
    }
   ],
   "source": [
    "# SageMaker JumpStart provides APIs as part of SageMaker SDK that allow you to deploy and fine-tune models in network isolation using scripts that SageMaker maintains.\n",
    "\n",
    "from sagemaker.jumpstart.model import JumpStartModel\n",
    "\n",
    "\n",
    "model_id = \"huggingface-llm-falcon-40b-bf16\"\n",
    "endpoint_name =\"sm-js-llm-async-falcon-40b-bf16\"\n",
    "endpoint_input = {'inputs': 'Girafatron is obsessed with giraffes, the most glorious animal on the face of this Earth. Giraftron believes all other animals are irrelevant when compared to the glorious majesty of the giraffe.\\nDaniel: Hello, Girafatron!\\nGirafatron:', 'parameters': {'max_new_tokens': 50, 'top_k': 10, 'return_full_text': False, 'do_sample': True}}"
   ]
  },
  {
   "cell_type": "code",
   "execution_count": 3,
   "id": "778badfa-9c65-41be-b71d-0b5039905de0",
   "metadata": {
    "tags": []
   },
   "outputs": [],
   "source": [
    "import sagemaker\n",
    "from sagemaker.huggingface import HuggingFaceModel, get_huggingface_llm_image_uri\n",
    "import time\n",
    "\n",
    "sagemaker_session = sagemaker.Session()\n",
    "region = sagemaker_session.boto_region_name\n",
    "role = sagemaker.get_execution_role()"
   ]
  },
  {
   "cell_type": "code",
   "execution_count": 4,
   "id": "87a132e1-370c-43ab-adca-4e938c315244",
   "metadata": {
    "tags": []
   },
   "outputs": [],
   "source": [
    "s3_bucket=sagemaker_session.default_bucket()\n",
    "bucket_prefix='falcon-async-inference'\n",
    "\n",
    "from sagemaker.async_inference.async_inference_config import AsyncInferenceConfig\n",
    "\n",
    "async_config = AsyncInferenceConfig(\n",
    "    output_path=f\"s3://{s3_bucket}/{bucket_prefix}/output\",\n",
    "    max_concurrent_invocations_per_instance=4,\n",
    "    # Optionally specify Amazon SNS topics\n",
    "    # notification_config = {\n",
    "    # \"SuccessTopic\": \"arn:aws:sns:<aws-region>:<account-id>:<topic-name>\",\n",
    "    # \"ErrorTopic\": \"arn:aws:sns:<aws-region>:<account-id>:<topic-name>\",\n",
    "    # }\n",
    ")"
   ]
  },
  {
   "cell_type": "code",
   "execution_count": 6,
   "id": "cc95148c-6d54-4305-b7bc-a349e9820cd9",
   "metadata": {
    "tags": []
   },
   "outputs": [
    {
     "name": "stdout",
     "output_type": "stream",
     "text": [
      "--------------------------!"
     ]
    }
   ],
   "source": [
    "model = JumpStartModel(model_id=model_id)\n",
    "predictor = model.deploy(\n",
    "    initial_instance_count=1,\n",
    "        instance_type=\"ml.g5.24xlarge\",\n",
    "        endpoint_name=endpoint_name,\n",
    "        async_inference_config=async_config)\n"
   ]
  },
  {
   "cell_type": "code",
   "execution_count": null,
   "id": "88e40d5c-e5d1-48ef-9989-adf826b7f511",
   "metadata": {},
   "outputs": [],
   "source": [
    "# Check if endpoint is created\n",
    "endpoint_description = sagemaker_session.sagemaker_client.describe_endpoint(EndpointName=endpoint_name)\n",
    "# code to invoke async endpoint for inference\n",
    "\n"
   ]
  },
  {
   "cell_type": "code",
   "execution_count": null,
   "id": "f1c51acc-e8ac-4ea4-b354-a0197eb78eec",
   "metadata": {},
   "outputs": [],
   "source": [
    "response = predictor.predict(endpoint_input)\n",
    "print(f\"Inference:\\nInput: {endpoint_input}\\nResponse: {response}\\n\")"
   ]
  }
 ],
 "metadata": {
  "availableInstances": [],
  "instance_type": "ml.m5.large",
  "kernelspec": {
   "display_name": "Python 3 (Data Science 3.0)",
   "language": "python",
   "name": "python3__SAGEMAKER_INTERNAL__arn:aws:sagemaker:us-west-2:236514542706:image/sagemaker-data-science-310-v1"
  },
  "language_info": {
   "codemirror_mode": {
    "name": "ipython",
    "version": 3
   },
   "file_extension": ".py",
   "mimetype": "text/x-python",
   "name": "python",
   "nbconvert_exporter": "python",
   "pygments_lexer": "ipython3",
   "version": "3.10.6"
  }
 },
 "nbformat": 4,
 "nbformat_minor": 5
}
